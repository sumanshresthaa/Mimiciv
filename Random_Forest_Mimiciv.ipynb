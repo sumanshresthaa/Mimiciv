{
 "cells": [
  {
   "cell_type": "markdown",
   "metadata": {
    "id": "7yIqVJe0jhmt"
   },
   "source": [
    "# Import Libraries and Data"
   ]
  },
  {
   "cell_type": "code",
   "execution_count": 1,
   "metadata": {
    "executionInfo": {
     "elapsed": 2287,
     "status": "ok",
     "timestamp": 1687124842512,
     "user": {
      "displayName": "Andrew Liu",
      "userId": "01750910414052279045"
     },
     "user_tz": 420
    },
    "id": "TWbVMwsnjTuH"
   },
   "outputs": [],
   "source": [
    "# Loading Libraries\n",
    "import pandas as pd\n",
    "import numpy as np\n",
    "import seaborn as sns\n",
    "import matplotlib.pyplot as plt\n",
    "%matplotlib inline\n",
    "from sklearn.preprocessing import OneHotEncoder,LabelEncoder\n",
    "from sklearn.ensemble import RandomForestClassifier\n",
    "from sklearn.model_selection import train_test_split, GridSearchCV\n",
    "from sklearn import metrics\n",
    "from sklearn.metrics import classification_report, roc_auc_score, roc_curve\n",
    "from imblearn.under_sampling import RandomUnderSampler\n",
    "from sklearn.calibration import CalibrationDisplay, CalibratedClassifierCV, calibration_curve"
   ]
  },
  {
   "cell_type": "code",
   "execution_count": 2,
   "metadata": {
    "colab": {
     "base_uri": "https://localhost:8080/",
     "height": 334
    },
    "executionInfo": {
     "elapsed": 491,
     "status": "ok",
     "timestamp": 1687124845148,
     "user": {
      "displayName": "Andrew Liu",
      "userId": "01750910414052279045"
     },
     "user_tz": 420
    },
    "id": "LGd55JY2kit6",
    "outputId": "1c3f1444-e277-4d2c-c0d5-e2baccfcf628"
   },
   "outputs": [
    {
     "data": {
      "text/html": [
       "<div>\n",
       "<style scoped>\n",
       "    .dataframe tbody tr th:only-of-type {\n",
       "        vertical-align: middle;\n",
       "    }\n",
       "\n",
       "    .dataframe tbody tr th {\n",
       "        vertical-align: top;\n",
       "    }\n",
       "\n",
       "    .dataframe thead th {\n",
       "        text-align: right;\n",
       "    }\n",
       "</style>\n",
       "<table border=\"1\" class=\"dataframe\">\n",
       "  <thead>\n",
       "    <tr style=\"text-align: right;\">\n",
       "      <th></th>\n",
       "      <th>gender</th>\n",
       "      <th>age</th>\n",
       "      <th>mortality</th>\n",
       "      <th>Heart Rate</th>\n",
       "      <th>Heart rate Alarm - High</th>\n",
       "      <th>Heart Rate Alarm - Low</th>\n",
       "      <th>Non Invasive Blood Pressure systolic</th>\n",
       "      <th>Non Invasive Blood Pressure diastolic</th>\n",
       "      <th>Respiratory Rate</th>\n",
       "      <th>SpO2 Desat Limit</th>\n",
       "      <th>...</th>\n",
       "      <th>ethnicity_new</th>\n",
       "      <th>Chronic systolic (congestive) heart failure</th>\n",
       "      <th>Atrial fibrillation</th>\n",
       "      <th>Hyperlipidemia, unspecified</th>\n",
       "      <th>Chronic obstructive pulmonary disease, unspecified-2</th>\n",
       "      <th>Chronic obstructive pulmonary disease, unspecified</th>\n",
       "      <th>Unspecified atrial fibrillation</th>\n",
       "      <th>Types_of_MI</th>\n",
       "      <th>Types_of_Heart_Failure</th>\n",
       "      <th>Hyperlipidemia</th>\n",
       "    </tr>\n",
       "  </thead>\n",
       "  <tbody>\n",
       "    <tr>\n",
       "      <th>0</th>\n",
       "      <td>0</td>\n",
       "      <td>76</td>\n",
       "      <td>0</td>\n",
       "      <td>103</td>\n",
       "      <td>160.0</td>\n",
       "      <td>85.0</td>\n",
       "      <td>157.0</td>\n",
       "      <td>88.0</td>\n",
       "      <td>25.0</td>\n",
       "      <td>88.0</td>\n",
       "      <td>...</td>\n",
       "      <td>24</td>\n",
       "      <td>0</td>\n",
       "      <td>1</td>\n",
       "      <td>0</td>\n",
       "      <td>0</td>\n",
       "      <td>0</td>\n",
       "      <td>0</td>\n",
       "      <td>0</td>\n",
       "      <td>0</td>\n",
       "      <td>1</td>\n",
       "    </tr>\n",
       "    <tr>\n",
       "      <th>1</th>\n",
       "      <td>0</td>\n",
       "      <td>80</td>\n",
       "      <td>1</td>\n",
       "      <td>155</td>\n",
       "      <td>130.0</td>\n",
       "      <td>50.0</td>\n",
       "      <td>121.0</td>\n",
       "      <td>88.0</td>\n",
       "      <td>35.0</td>\n",
       "      <td>85.0</td>\n",
       "      <td>...</td>\n",
       "      <td>5</td>\n",
       "      <td>1</td>\n",
       "      <td>1</td>\n",
       "      <td>1</td>\n",
       "      <td>0</td>\n",
       "      <td>0</td>\n",
       "      <td>1</td>\n",
       "      <td>1</td>\n",
       "      <td>1</td>\n",
       "      <td>0</td>\n",
       "    </tr>\n",
       "    <tr>\n",
       "      <th>2</th>\n",
       "      <td>0</td>\n",
       "      <td>59</td>\n",
       "      <td>0</td>\n",
       "      <td>102</td>\n",
       "      <td>155.0</td>\n",
       "      <td>40.0</td>\n",
       "      <td>134.0</td>\n",
       "      <td>72.0</td>\n",
       "      <td>20.0</td>\n",
       "      <td>85.0</td>\n",
       "      <td>...</td>\n",
       "      <td>19</td>\n",
       "      <td>0</td>\n",
       "      <td>0</td>\n",
       "      <td>1</td>\n",
       "      <td>0</td>\n",
       "      <td>0</td>\n",
       "      <td>0</td>\n",
       "      <td>0</td>\n",
       "      <td>0</td>\n",
       "      <td>0</td>\n",
       "    </tr>\n",
       "    <tr>\n",
       "      <th>3</th>\n",
       "      <td>1</td>\n",
       "      <td>91</td>\n",
       "      <td>0</td>\n",
       "      <td>106</td>\n",
       "      <td>130.0</td>\n",
       "      <td>50.0</td>\n",
       "      <td>164.0</td>\n",
       "      <td>88.0</td>\n",
       "      <td>30.0</td>\n",
       "      <td>90.0</td>\n",
       "      <td>...</td>\n",
       "      <td>7</td>\n",
       "      <td>0</td>\n",
       "      <td>1</td>\n",
       "      <td>1</td>\n",
       "      <td>1</td>\n",
       "      <td>1</td>\n",
       "      <td>1</td>\n",
       "      <td>0</td>\n",
       "      <td>1</td>\n",
       "      <td>1</td>\n",
       "    </tr>\n",
       "    <tr>\n",
       "      <th>4</th>\n",
       "      <td>0</td>\n",
       "      <td>52</td>\n",
       "      <td>0</td>\n",
       "      <td>91</td>\n",
       "      <td>120.0</td>\n",
       "      <td>50.0</td>\n",
       "      <td>127.0</td>\n",
       "      <td>71.0</td>\n",
       "      <td>22.0</td>\n",
       "      <td>85.0</td>\n",
       "      <td>...</td>\n",
       "      <td>24</td>\n",
       "      <td>0</td>\n",
       "      <td>0</td>\n",
       "      <td>0</td>\n",
       "      <td>0</td>\n",
       "      <td>0</td>\n",
       "      <td>0</td>\n",
       "      <td>0</td>\n",
       "      <td>0</td>\n",
       "      <td>0</td>\n",
       "    </tr>\n",
       "  </tbody>\n",
       "</table>\n",
       "<p>5 rows × 30 columns</p>\n",
       "</div>"
      ],
      "text/plain": [
       "   gender  age  mortality  Heart Rate  Heart rate Alarm - High  \\\n",
       "0       0   76          0         103                    160.0   \n",
       "1       0   80          1         155                    130.0   \n",
       "2       0   59          0         102                    155.0   \n",
       "3       1   91          0         106                    130.0   \n",
       "4       0   52          0          91                    120.0   \n",
       "\n",
       "   Heart Rate Alarm - Low  Non Invasive Blood Pressure systolic  \\\n",
       "0                    85.0                                 157.0   \n",
       "1                    50.0                                 121.0   \n",
       "2                    40.0                                 134.0   \n",
       "3                    50.0                                 164.0   \n",
       "4                    50.0                                 127.0   \n",
       "\n",
       "   Non Invasive Blood Pressure diastolic  Respiratory Rate  SpO2 Desat Limit  \\\n",
       "0                                   88.0              25.0              88.0   \n",
       "1                                   88.0              35.0              85.0   \n",
       "2                                   72.0              20.0              85.0   \n",
       "3                                   88.0              30.0              90.0   \n",
       "4                                   71.0              22.0              85.0   \n",
       "\n",
       "   ...  ethnicity_new  Chronic systolic (congestive) heart failure  \\\n",
       "0  ...             24                                            0   \n",
       "1  ...              5                                            1   \n",
       "2  ...             19                                            0   \n",
       "3  ...              7                                            0   \n",
       "4  ...             24                                            0   \n",
       "\n",
       "   Atrial fibrillation  Hyperlipidemia, unspecified  \\\n",
       "0                    1                            0   \n",
       "1                    1                            1   \n",
       "2                    0                            1   \n",
       "3                    1                            1   \n",
       "4                    0                            0   \n",
       "\n",
       "   Chronic obstructive pulmonary disease, unspecified-2  \\\n",
       "0                                                  0      \n",
       "1                                                  0      \n",
       "2                                                  0      \n",
       "3                                                  1      \n",
       "4                                                  0      \n",
       "\n",
       "   Chronic obstructive pulmonary disease, unspecified  \\\n",
       "0                                                  0    \n",
       "1                                                  0    \n",
       "2                                                  0    \n",
       "3                                                  1    \n",
       "4                                                  0    \n",
       "\n",
       "   Unspecified atrial fibrillation  Types_of_MI  Types_of_Heart_Failure  \\\n",
       "0                                0            0                       0   \n",
       "1                                1            1                       1   \n",
       "2                                0            0                       0   \n",
       "3                                1            0                       1   \n",
       "4                                0            0                       0   \n",
       "\n",
       "   Hyperlipidemia  \n",
       "0               1  \n",
       "1               0  \n",
       "2               0  \n",
       "3               1  \n",
       "4               0  \n",
       "\n",
       "[5 rows x 30 columns]"
      ]
     },
     "execution_count": 2,
     "metadata": {},
     "output_type": "execute_result"
    }
   ],
   "source": [
    "# Loading Dataset\n",
    "raw_data = pd.read_csv(\"Selected_Features.csv\")\n",
    "raw_data.head()"
   ]
  },
  {
   "cell_type": "markdown",
   "metadata": {
    "id": "vkRj_HHOl0SJ"
   },
   "source": [
    "# Data Preparation"
   ]
  },
  {
   "cell_type": "code",
   "execution_count": 3,
   "metadata": {
    "colab": {
     "base_uri": "https://localhost:8080/"
    },
    "executionInfo": {
     "elapsed": 180,
     "status": "ok",
     "timestamp": 1687124848438,
     "user": {
      "displayName": "Andrew Liu",
      "userId": "01750910414052279045"
     },
     "user_tz": 420
    },
    "id": "4VFWbl5qk8gT",
    "outputId": "61dd69d8-a48d-4393-d81a-3c94618a93a9"
   },
   "outputs": [
    {
     "name": "stdout",
     "output_type": "stream",
     "text": [
      "<class 'pandas.core.frame.DataFrame'>\n",
      "RangeIndex: 2030 entries, 0 to 2029\n",
      "Data columns (total 30 columns):\n",
      " #   Column                                                Non-Null Count  Dtype  \n",
      "---  ------                                                --------------  -----  \n",
      " 0   gender                                                2030 non-null   int64  \n",
      " 1   age                                                   2030 non-null   int64  \n",
      " 2   mortality                                             2030 non-null   int64  \n",
      " 3   Heart Rate                                            2030 non-null   int64  \n",
      " 4   Heart rate Alarm - High                               2030 non-null   float64\n",
      " 5   Heart Rate Alarm - Low                                2030 non-null   float64\n",
      " 6   Non Invasive Blood Pressure systolic                  2030 non-null   float64\n",
      " 7   Non Invasive Blood Pressure diastolic                 2030 non-null   float64\n",
      " 8   Respiratory Rate                                      2030 non-null   float64\n",
      " 9   SpO2 Desat Limit                                      2030 non-null   float64\n",
      " 10  Prothrombin time                                      2030 non-null   float64\n",
      " 11  Anion gap                                             2030 non-null   float64\n",
      " 12  Creatinine (serum)                                    2030 non-null   float64\n",
      " 13  Potassium, Whole Blood-2                              2030 non-null   float64\n",
      " 14  Bicarbonate                                           2030 non-null   float64\n",
      " 15  GCS - Eye Opening                                     2030 non-null   int64  \n",
      " 16  Hemoglobin-2                                          2030 non-null   float64\n",
      " 17  Hematocrit                                            2030 non-null   float64\n",
      " 18  Platelet Count                                        2030 non-null   int64  \n",
      " 19  age_group                                             2030 non-null   int64  \n",
      " 20  ethnicity_new                                         2030 non-null   int64  \n",
      " 21  Chronic systolic (congestive) heart failure           2030 non-null   int64  \n",
      " 22  Atrial fibrillation                                   2030 non-null   int64  \n",
      " 23  Hyperlipidemia, unspecified                           2030 non-null   int64  \n",
      " 24  Chronic obstructive pulmonary disease, unspecified-2  2030 non-null   int64  \n",
      " 25  Chronic obstructive pulmonary disease, unspecified    2030 non-null   int64  \n",
      " 26  Unspecified atrial fibrillation                       2030 non-null   int64  \n",
      " 27  Types_of_MI                                           2030 non-null   int64  \n",
      " 28  Types_of_Heart_Failure                                2030 non-null   int64  \n",
      " 29  Hyperlipidemia                                        2030 non-null   int64  \n",
      "dtypes: float64(13), int64(17)\n",
      "memory usage: 475.9 KB\n"
     ]
    }
   ],
   "source": [
    "raw_data.info()"
   ]
  },
  {
   "cell_type": "markdown",
   "metadata": {
    "id": "HywsdL1ElC5A"
   },
   "source": [
    "No missing values, all correct datatype, CHECK."
   ]
  },
  {
   "cell_type": "code",
   "execution_count": 4,
   "metadata": {
    "colab": {
     "base_uri": "https://localhost:8080/"
    },
    "executionInfo": {
     "elapsed": 173,
     "status": "ok",
     "timestamp": 1687124854327,
     "user": {
      "displayName": "Andrew Liu",
      "userId": "01750910414052279045"
     },
     "user_tz": 420
    },
    "id": "ujsUy9bUk8et",
    "outputId": "6a8f0b48-6b72-4ab7-c746-5c4f2d8ea82a"
   },
   "outputs": [
    {
     "data": {
      "text/plain": [
       "0    1850\n",
       "1     180\n",
       "Name: mortality, dtype: int64"
      ]
     },
     "execution_count": 4,
     "metadata": {},
     "output_type": "execute_result"
    }
   ],
   "source": [
    "raw_data['mortality'].value_counts()"
   ]
  },
  {
   "cell_type": "code",
   "execution_count": 5,
   "metadata": {
    "colab": {
     "base_uri": "https://localhost:8080/"
    },
    "executionInfo": {
     "elapsed": 3,
     "status": "ok",
     "timestamp": 1687124855360,
     "user": {
      "displayName": "Andrew Liu",
      "userId": "01750910414052279045"
     },
     "user_tz": 420
    },
    "id": "U569EVo0k8aP",
    "outputId": "6769fa35-b41e-461f-c25a-bc650e283b7a"
   },
   "outputs": [
    {
     "name": "stdout",
     "output_type": "stream",
     "text": [
      "The data is unbalanced with 8.9% mortality rate.\n"
     ]
    }
   ],
   "source": [
    " print(f\"The data is unbalanced with {183/(183+1865)*100:.1f}% mortality rate.\")"
   ]
  },
  {
   "cell_type": "code",
   "execution_count": null,
   "metadata": {
    "executionInfo": {
     "elapsed": 2,
     "status": "ok",
     "timestamp": 1687124856015,
     "user": {
      "displayName": "Andrew Liu",
      "userId": "01750910414052279045"
     },
     "user_tz": 420
    },
    "id": "ZoDIQmuSnGNx"
   },
   "outputs": [],
   "source": []
  },
  {
   "cell_type": "code",
   "execution_count": 6,
   "metadata": {
    "colab": {
     "base_uri": "https://localhost:8080/"
    },
    "executionInfo": {
     "elapsed": 8,
     "status": "ok",
     "timestamp": 1687124856949,
     "user": {
      "displayName": "Andrew Liu",
      "userId": "01750910414052279045"
     },
     "user_tz": 420
    },
    "id": "5xoyTBQek8Xf",
    "outputId": "4bb9d452-544c-40ac-e728-8f79707b37cc"
   },
   "outputs": [
    {
     "data": {
      "text/plain": [
       "Index(['gender', 'age', 'mortality', 'Heart Rate', 'Heart rate Alarm - High',\n",
       "       'Heart Rate Alarm - Low', 'Non Invasive Blood Pressure systolic',\n",
       "       'Non Invasive Blood Pressure diastolic', 'Respiratory Rate',\n",
       "       'SpO2 Desat Limit', 'Prothrombin time', 'Anion gap',\n",
       "       'Creatinine (serum)', 'Potassium, Whole Blood-2', 'Bicarbonate',\n",
       "       'GCS - Eye Opening', 'Hemoglobin-2', 'Hematocrit', 'Platelet Count',\n",
       "       'age_group', 'ethnicity_new',\n",
       "       'Chronic systolic (congestive) heart failure', 'Atrial fibrillation',\n",
       "       'Hyperlipidemia, unspecified',\n",
       "       'Chronic obstructive pulmonary disease, unspecified-2',\n",
       "       'Chronic obstructive pulmonary disease, unspecified',\n",
       "       'Unspecified atrial fibrillation', 'Types_of_MI',\n",
       "       'Types_of_Heart_Failure', 'Hyperlipidemia'],\n",
       "      dtype='object')"
      ]
     },
     "execution_count": 6,
     "metadata": {},
     "output_type": "execute_result"
    }
   ],
   "source": [
    "raw_data.columns"
   ]
  },
  {
   "cell_type": "code",
   "execution_count": 7,
   "metadata": {},
   "outputs": [],
   "source": [
    "features = ['gender', 'age', 'Heart Rate', 'Heart rate Alarm - High',\n",
    "       'Heart Rate Alarm - Low', 'Non Invasive Blood Pressure systolic',\n",
    "       'Non Invasive Blood Pressure diastolic', 'Respiratory Rate',\n",
    "       'SpO2 Desat Limit', 'Prothrombin time', 'Anion gap',\n",
    "       'Creatinine (serum)', 'Potassium, Whole Blood-2', 'Bicarbonate',\n",
    "       'GCS - Eye Opening', 'Hemoglobin-2', 'Hematocrit', 'Platelet Count',\n",
    "       'age_group', 'ethnicity_new',\n",
    "       'Chronic systolic (congestive) heart failure', 'Atrial fibrillation',\n",
    "       'Hyperlipidemia, unspecified',\n",
    "       'Chronic obstructive pulmonary disease, unspecified-2',\n",
    "       'Chronic obstructive pulmonary disease, unspecified',\n",
    "       'Unspecified atrial fibrillation', 'Types_of_MI',\n",
    "       'Types_of_Heart_Failure', 'Hyperlipidemia']"
   ]
  },
  {
   "cell_type": "code",
   "execution_count": 8,
   "metadata": {
    "executionInfo": {
     "elapsed": 169,
     "status": "ok",
     "timestamp": 1687124860381,
     "user": {
      "displayName": "Andrew Liu",
      "userId": "01750910414052279045"
     },
     "user_tz": 420
    },
    "id": "ZaAq8ZMqk8TI"
   },
   "outputs": [],
   "source": [
    "X = raw_data[features]\n",
    "y = raw_data['mortality']"
   ]
  },
  {
   "cell_type": "code",
   "execution_count": 9,
   "metadata": {
    "executionInfo": {
     "elapsed": 5,
     "status": "ok",
     "timestamp": 1687124861051,
     "user": {
      "displayName": "Andrew Liu",
      "userId": "01750910414052279045"
     },
     "user_tz": 420
    },
    "id": "3noUsREHk8Ro"
   },
   "outputs": [],
   "source": [
    "# Split dataset into training set and test set\n",
    "X_train, X_test, y_train, y_test = train_test_split(X, y, test_size=0.3, random_state=123)"
   ]
  },
  {
   "cell_type": "code",
   "execution_count": 10,
   "metadata": {
    "colab": {
     "base_uri": "https://localhost:8080/"
    },
    "executionInfo": {
     "elapsed": 3,
     "status": "ok",
     "timestamp": 1687124862295,
     "user": {
      "displayName": "Andrew Liu",
      "userId": "01750910414052279045"
     },
     "user_tz": 420
    },
    "id": "iMhduUQ53_5N",
    "outputId": "cd99790c-4246-4773-fe40-4cd2e00006c2"
   },
   "outputs": [
    {
     "data": {
      "text/plain": [
       "0    123\n",
       "1    123\n",
       "Name: mortality, dtype: int64"
      ]
     },
     "execution_count": 10,
     "metadata": {},
     "output_type": "execute_result"
    }
   ],
   "source": [
    "# Undersampling the training set\n",
    "rus = RandomUnderSampler(random_state=42)\n",
    "X_train_rus, y_train_rus= rus.fit_resample(X_train, y_train)\n",
    "\n",
    "y_train_rus.value_counts()"
   ]
  },
  {
   "cell_type": "code",
   "execution_count": 11,
   "metadata": {},
   "outputs": [],
   "source": [
    "#Undersampling the test set"
   ]
  },
  {
   "cell_type": "code",
   "execution_count": 12,
   "metadata": {},
   "outputs": [
    {
     "data": {
      "text/plain": [
       "0    57\n",
       "1    57\n",
       "Name: mortality, dtype: int64"
      ]
     },
     "execution_count": 12,
     "metadata": {},
     "output_type": "execute_result"
    }
   ],
   "source": [
    "rus = RandomUnderSampler(random_state=42)\n",
    "X_test_rus, y_test_rus= rus.fit_resample(X_test, y_test)\n",
    "\n",
    "y_test_rus.value_counts()"
   ]
  },
  {
   "cell_type": "markdown",
   "metadata": {
    "id": "5YWNdBlZmNIU"
   },
   "source": [
    "# Random Forest Classifier\n",
    "\n",
    "https://scikit-learn.org/stable/modules/generated/sklearn.ensemble.RandomForestClassifier.html\n",
    "\n",
    "class sklearn.ensemble.RandomForestClassifier(n_estimators=100, *, criterion='gini', max_depth=None, min_samples_split=2, min_samples_leaf=1, min_weight_fraction_leaf=0.0, max_features='sqrt', max_leaf_nodes=None, min_impurity_decrease=0.0, bootstrap=True, oob_score=False, n_jobs=None, random_state=None, verbose=0, warm_start=False, class_weight=None, ccp_alpha=0.0, max_samples=None)[source]"
   ]
  },
  {
   "cell_type": "markdown",
   "metadata": {
    "id": "JEjmTUxRmt-2"
   },
   "source": [
    "## Untuned Model Performance"
   ]
  },
  {
   "cell_type": "markdown",
   "metadata": {
    "id": "WuF9sxAm4T6g"
   },
   "source": [
    "### Balanced Data - Undersampling technique"
   ]
  },
  {
   "cell_type": "code",
   "execution_count": 13,
   "metadata": {
    "colab": {
     "base_uri": "https://localhost:8080/"
    },
    "executionInfo": {
     "elapsed": 1883,
     "status": "ok",
     "timestamp": 1687124874535,
     "user": {
      "displayName": "Andrew Liu",
      "userId": "01750910414052279045"
     },
     "user_tz": 420
    },
    "id": "J4-aMlBnpEzk",
    "outputId": "1235f290-443d-403c-ddcd-267c91990dea"
   },
   "outputs": [
    {
     "name": "stdout",
     "output_type": "stream",
     "text": [
      "Accuracy: 0.8157894736842105\n"
     ]
    }
   ],
   "source": [
    "# Creating a Random Forest Model\n",
    "rfc = RandomForestClassifier()\n",
    "\n",
    "# Model Training\n",
    "rfc_rus = rfc.fit(X_train_rus, y_train_rus)\n",
    "\n",
    "# Get Prediction Values\n",
    "y_pred_rus = rfc_rus.predict(X_test_rus)\n",
    "\n",
    "print(\"Accuracy:\",metrics.accuracy_score(y_test_rus, y_pred_rus))"
   ]
  },
  {
   "cell_type": "markdown",
   "metadata": {
    "id": "nxYCDWkA4ov5"
   },
   "source": [
    "Accuracy dropped from 0.87 => 0.77"
   ]
  },
  {
   "cell_type": "markdown",
   "metadata": {
    "id": "q-sAeUK-pKK3"
   },
   "source": [
    "## Grid Search"
   ]
  },
  {
   "cell_type": "markdown",
   "metadata": {
    "id": "jZDcfRhx6Row"
   },
   "source": [
    "### Balanced Data"
   ]
  },
  {
   "cell_type": "code",
   "execution_count": 14,
   "metadata": {
    "colab": {
     "base_uri": "https://localhost:8080/"
    },
    "executionInfo": {
     "elapsed": 2987938,
     "status": "ok",
     "timestamp": 1687107246037,
     "user": {
      "displayName": "Andrew Liu",
      "userId": "01750910414052279045"
     },
     "user_tz": 420
    },
    "id": "aS5BiKGc6S8-",
    "outputId": "e0da24ca-ef3c-4296-9a06-74c7a713c3f6"
   },
   "outputs": [
    {
     "name": "stdout",
     "output_type": "stream",
     "text": [
      "Fitting 10 folds for each of 108 candidates, totalling 1080 fits\n",
      "tuned hpyerparameters: (best parameters) {'criterion': 'entropy', 'min_samples_leaf': 2, 'min_samples_split': 3, 'n_estimators': 100}\n",
      "accuracy : 0.8905000000000001\n"
     ]
    }
   ],
   "source": [
    "params = {\n",
    "    \"criterion\": [\"gini\", \"entropy\", \"log_loss\"],\n",
    "    \"n_estimators\": [50, 100, 250, 500],\n",
    "    \"min_samples_split\": range(2, 5),\n",
    "    \"min_samples_leaf\": range(1, 4)\n",
    "}\n",
    "\n",
    "search_rus = GridSearchCV(rfc_rus, params, n_jobs = -1, cv = 10, verbose = 2)\n",
    "\n",
    "search_rus.fit(X_train_rus, y_train_rus)\n",
    "\n",
    "# GridSearchCV results\n",
    "print(\"tuned hpyerparameters: (best parameters)\", search_rus.best_params_)\n",
    "print(\"accuracy :\", search_rus.best_score_)\n"
   ]
  },
  {
   "cell_type": "code",
   "execution_count": 15,
   "metadata": {
    "executionInfo": {
     "elapsed": 15406,
     "status": "ok",
     "timestamp": 1687124941349,
     "user": {
      "displayName": "Andrew Liu",
      "userId": "01750910414052279045"
     },
     "user_tz": 420
    },
    "id": "7fA-oj1sYISD"
   },
   "outputs": [],
   "source": [
    "# In case I lose the grid search results above\n",
    "# fit the best hyperparameter in the data\n",
    "search_rus = RandomForestClassifier(criterion = 'entropy', n_estimators = 100, min_samples_split = 3, min_samples_leaf = 3)\n",
    "search_rus = search_rus.fit(X_train_rus, y_train_rus)"
   ]
  },
  {
   "cell_type": "markdown",
   "metadata": {
    "id": "H2XYONQJKZnB"
   },
   "source": [
    "# Results from Best Models"
   ]
  },
  {
   "cell_type": "code",
   "execution_count": 16,
   "metadata": {
    "id": "QPzl_izrKbcv"
   },
   "outputs": [],
   "source": [
    "y_prob = search_rus.predict_proba(X_test_rus)\n",
    "y_prob_rus = search_rus.predict_proba(X_test_rus)"
   ]
  },
  {
   "cell_type": "markdown",
   "metadata": {
    "id": "XPrCKTzkiw_k"
   },
   "source": [
    "## 2. ROC Curves"
   ]
  },
  {
   "cell_type": "code",
   "execution_count": 17,
   "metadata": {
    "colab": {
     "base_uri": "https://localhost:8080/"
    },
    "executionInfo": {
     "elapsed": 21,
     "status": "ok",
     "timestamp": 1687109269549,
     "user": {
      "displayName": "Andrew Liu",
      "userId": "01750910414052279045"
     },
     "user_tz": 420
    },
    "id": "1tjXenIWftPf",
    "outputId": "87e63bc7-03ca-42ef-d37b-6d81a472ec83"
   },
   "outputs": [
    {
     "name": "stdout",
     "output_type": "stream",
     "text": [
      "For the best models: \n",
      "Balanced Data AUC = 0.8630347799322868\n"
     ]
    }
   ],
   "source": [
    "# AUC score\n",
    "rus_auc = roc_auc_score(y_test_rus, y_prob_rus[:,1])\n",
    "print(f\"For the best models: \\nBalanced Data AUC = {rus_auc}\")"
   ]
  },
  {
   "cell_type": "code",
   "execution_count": 18,
   "metadata": {
    "colab": {
     "base_uri": "https://localhost:8080/",
     "height": 564
    },
    "executionInfo": {
     "elapsed": 549,
     "status": "ok",
     "timestamp": 1687109270088,
     "user": {
      "displayName": "Andrew Liu",
      "userId": "01750910414052279045"
     },
     "user_tz": 420
    },
    "id": "SuRUW8yDftMt",
    "outputId": "3ec3b217-d054-490e-8691-df1863d27a10"
   },
   "outputs": [
    {
     "data": {
      "image/png": "[encoded data removed]",
      "text/plain": [
       "<Figure size 720x432 with 1 Axes>"
      ]
     },
     "metadata": {
      "needs_background": "light"
     },
     "output_type": "display_data"
    }
   ],
   "source": [
    "# fpr - false positive rate\n",
    "# tpr - true positive rate\n",
    "# threshold - part of the decision function used to calculate fpr and tpr\n",
    "\n",
    "fpr_rus, tpr_rus, threshold_rus = roc_curve(y_test_rus, y_prob_rus[:,1])\n",
    "\n",
    "\n",
    "plt.figure(figsize = (10, 6))\n",
    "\n",
    "plt.plot(fpr_rus, tpr_rus, label = f'Balanced Data - Decision Tree Model (AUC = {rus_auc:.2f})')\n",
    "plt.plot([0, 1], [0, 1], 'k--')  # diagonal line representing random classifier\n",
    "\n",
    "plt.xlabel('1 - Specificity')\n",
    "plt.ylabel('Sensitivity')\n",
    "plt.title('Receiver Operating Characteristic (ROC) Curve')\n",
    "plt.legend(loc = 'lower right')\n",
    "\n",
    "plt.show()"
   ]
  },
  {
   "cell_type": "markdown",
   "metadata": {
    "id": "1i-msrEHlBKe"
   },
   "source": [
    "## 3. Classification Reports"
   ]
  },
  {
   "cell_type": "code",
   "execution_count": 19,
   "metadata": {
    "id": "2dcI3lYGlYox"
   },
   "outputs": [],
   "source": [
    "y_pred_rus = search_rus.predict(X_test_rus)"
   ]
  },
  {
   "cell_type": "code",
   "execution_count": 20,
   "metadata": {
    "colab": {
     "base_uri": "https://localhost:8080/"
    },
    "executionInfo": {
     "elapsed": 15,
     "status": "ok",
     "timestamp": 1687110002785,
     "user": {
      "displayName": "Andrew Liu",
      "userId": "01750910414052279045"
     },
     "user_tz": 420
    },
    "id": "KIN95qzGftFV",
    "outputId": "f1e009e1-fa19-465d-e015-30e521e6454d"
   },
   "outputs": [
    {
     "name": "stdout",
     "output_type": "stream",
     "text": [
      "Classification Report: Balanced Data & Uncalibrated\n",
      "              precision    recall  f1-score   support\n",
      "\n",
      "    Survival       0.79      0.79      0.79        57\n",
      "       Death       0.79      0.79      0.79        57\n",
      "\n",
      "    accuracy                           0.79       114\n",
      "   macro avg       0.79      0.79      0.79       114\n",
      "weighted avg       0.79      0.79      0.79       114\n",
      "\n"
     ]
    }
   ],
   "source": [
    "print(\"Classification Report: Balanced Data & Uncalibrated\")\n",
    "print(classification_report(y_test_rus, y_pred_rus, target_names = ['Survival', 'Death']))"
   ]
  },
  {
   "cell_type": "markdown",
   "metadata": {
    "id": "QUZuk-7Aerl_"
   },
   "source": [
    "## 4. Importance Graphs"
   ]
  },
  {
   "cell_type": "code",
   "execution_count": 21,
   "metadata": {
    "colab": {
     "base_uri": "https://localhost:8080/",
     "height": 1000
    },
    "executionInfo": {
     "elapsed": 1396,
     "status": "ok",
     "timestamp": 1687125044125,
     "user": {
      "displayName": "Andrew Liu",
      "userId": "01750910414052279045"
     },
     "user_tz": 420
    },
    "id": "covI6SmPetoK",
    "outputId": "2fb4d819-5b96-4e35-fa98-3048a262c06a"
   },
   "outputs": [
    {
     "name": "stderr",
     "output_type": "stream",
     "text": [
      "No artists with labels found to put in legend.  Note that artists whose label start with an underscore are ignored when legend() is called with no argument.\n"
     ]
    },
    {
     "data": {
      "image/png": "[encoded data removed]",
      "text/plain": [
       "<Figure size 576x1152 with 1 Axes>"
      ]
     },
     "metadata": {
      "needs_background": "light"
     },
     "output_type": "display_data"
    }
   ],
   "source": [
    "feature_imp = pd.Series(search_rus.feature_importances_, index=X.columns).sort_values(ascending=False)\n",
    "feature_imp\n",
    "\n",
    "plt.figure(figsize = (8, 16))\n",
    "# Creating a bar plot\n",
    "sns.barplot(x=feature_imp, y=feature_imp.index)\n",
    "# Add labels to your graph\n",
    "plt.xlabel('Feature Importance Score')\n",
    "plt.ylabel('Features')\n",
    "plt.title(\"Visualizing Important Features\")\n",
    "plt.legend()\n",
    "plt.show()\n",
    "\n"
   ]
  },
  {
   "cell_type": "code",
   "execution_count": null,
   "metadata": {},
   "outputs": [],
   "source": []
  }
 ],
 "metadata": {
  "colab": {
   "authorship_tag": "ABX9TyN4M4gGy+iujotM0Gw432Tv",
   "provenance": []
  },
  "kernelspec": {
   "display_name": "Python 3 (ipykernel)",
   "language": "python",
   "name": "python3"
  },
  "language_info": {
   "codemirror_mode": {
    "name": "ipython",
    "version": 3
   },
   "file_extension": ".py",
   "mimetype": "text/x-python",
   "name": "python",
   "nbconvert_exporter": "python",
   "pygments_lexer": "ipython3",
   "version": "3.10.2"
  }
 },
 "nbformat": 4,
 "nbformat_minor": 4
}
